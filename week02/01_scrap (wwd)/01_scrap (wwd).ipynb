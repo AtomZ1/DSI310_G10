{
 "cells": [
  {
   "cell_type": "markdown",
   "id": "fcef6729-5890-4ea9-b91c-d34df4326986",
   "metadata": {},
   "source": [
    "# 01_scrap\n",
    "- scrapping data from newsdata.io and upload to DataPlatform"
   ]
  },
  {
   "cell_type": "markdown",
   "id": "94a72a85-cebd-4448-b86c-92fb6c23f028",
   "metadata": {},
   "source": [
    "from bs4 import BeautifulSoup as soup\n",
    "import requests\n",
    "from datetime import datetime\n",
    "import pandas as pd\n",
    "import json## Getting data "
   ]
  },
  {
   "cell_type": "code",
   "execution_count": null,
   "id": "2eca3693-6719-4cc8-a826-9808e06c6d02",
   "metadata": {},
   "outputs": [],
   "source": []
  },
  {
   "cell_type": "code",
   "execution_count": 3,
   "id": "6785943c-8851-4f89-b1e5-a6813e1123c5",
   "metadata": {},
   "outputs": [],
   "source": [
    "from bs4 import BeautifulSoup as soup\n",
    "import requests\n",
    "from datetime import datetime\n",
    "import pandas as pd\n",
    "import json"
   ]
  },
  {
   "cell_type": "code",
   "execution_count": 4,
   "id": "5572553a-2fe8-4aef-82ba-17ac2134e4d9",
   "metadata": {},
   "outputs": [],
   "source": [
    "title = []\n",
    "urls = []\n",
    "published_datetime = []\n",
    "content = []"
   ]
  },
  {
   "cell_type": "code",
   "execution_count": 5,
   "id": "e78001af-a54b-4610-bb73-3be1731b1e6d",
   "metadata": {},
   "outputs": [],
   "source": [
    "r = requests.get('https://wwd.com/accessories-news/jewelry/')\n",
    "b = soup(r.content,'html.parser')"
   ]
  },
  {
   "cell_type": "code",
   "execution_count": 6,
   "id": "36fb83b6-ed75-4afa-9768-41705c0c943f",
   "metadata": {},
   "outputs": [],
   "source": [
    "for news in b.find_all('div', attrs={'class' : 'story-grid-primary // a-story-grid__primary lrv-u-flex lrv-u-flex-direction-column lrv-u-height-100p'}):\n",
    "    titles = news.find('h3').get_text().strip()\n",
    "    titles = titles.replace('\\xa0',' ')\n",
    "    title.append(titles)\n",
    "    urls.append(news.find('a', href=True)['href'])\n",
    "    #เพิ่มเอลิเมนที่ต้องการเข้าไปใน list \n",
    "    date_p = news.find('time').attrs['datetime']\n",
    "    published_datetime.append(date_p)\n",
    "    contents = news.find('p').get_text().strip()\n",
    "    content.append(contents)\n",
    "    #writter = news.find('span').get_text().strip()"
   ]
  },
  {
   "cell_type": "code",
   "execution_count": 7,
   "id": "e8ea8880-583f-461a-8279-145e3a53c24f",
   "metadata": {},
   "outputs": [
    {
     "name": "stdout",
     "output_type": "stream",
     "text": [
      "['The Future Rocks, a Marketplace Betting on Lab-grown Diamonds', 'Taking the Temperature of a Growing Jewelry Market', 'Hidden Gems: Key Jewelry Moments in Film', 'Meet the Fine Jewelry Brand Named After a 12th-century Silversmith', 'Paris-based Jeweler Viltier Sets Off on American Expansion', 'What Is Mociun?', 'Why Own a Diamond Ring When You Can Rent One?', 'Golden Eye: Missoma’s Marisa Hordern Looks to Covent Garden for First Pop-up Shop', '‘Bridgerton’ and Monica Rich Kosann Bring the Show’s Fine Jewelry Aesthetic to Consumers', 'TenThousandThings Celebrates 30 Years of Design', 'Leviev Unveils Empresses Diamonds', 'Susan Alexandra Lights Up the Holidays With Judaica Launch', 'Tiffany & Co. Deepens HBCU Support in Partnership With Harlem’s Fashion Row', 'Muse Partners With Every Mother Counts', 'Karma El Khalil Lands at Bergdorf Goodman']\n"
     ]
    }
   ],
   "source": [
    "print(title)"
   ]
  },
  {
   "cell_type": "code",
   "execution_count": 8,
   "id": "65ac4f61-3a0a-4b7c-b57f-b4c306e487f4",
   "metadata": {},
   "outputs": [
    {
     "name": "stdout",
     "output_type": "stream",
     "text": [
      "['https://wwd.com/accessories-news/', 'https://wwd.com/accessories-news/', 'https://wwd.com/accessories-news/', 'https://wwd.com/accessories-news/', 'https://wwd.com/accessories-news/', 'https://wwd.com/accessories-news/', 'https://wwd.com/accessories-news/', 'https://wwd.com/accessories-news/', 'https://wwd.com/accessories-news/', 'https://wwd.com/accessories-news/', 'https://wwd.com/accessories-news/', 'https://wwd.com/accessories-news/', 'https://wwd.com/accessories-news/', 'https://wwd.com/accessories-news/', 'https://wwd.com/accessories-news/']\n"
     ]
    }
   ],
   "source": [
    "print(urls)"
   ]
  },
  {
   "cell_type": "code",
   "execution_count": 9,
   "id": "365230a8-d410-48d8-88e1-ccfe68c99131",
   "metadata": {},
   "outputs": [
    {
     "name": "stdout",
     "output_type": "stream",
     "text": [
      "['2019-09-03', '2019-09-03', '2019-09-03', '2019-09-03', '2019-09-03', '2019-09-03', '2019-09-03', '2019-09-03', '2019-09-03', '2019-09-03', '2019-09-03', '2019-09-03', '2019-09-03', '2019-09-03', '2019-09-03']\n"
     ]
    }
   ],
   "source": [
    "print(published_datetime)"
   ]
  },
  {
   "cell_type": "code",
   "execution_count": 10,
   "id": "95a8b31f-73df-440e-8532-0d9025cb749a",
   "metadata": {},
   "outputs": [
    {
     "name": "stdout",
     "output_type": "stream",
     "text": [
      "['For $10, cofounders Anthony Tsang and Ray Cheng got a domain name and \"a company that doesn\\'t require a…', 'WWD speaks with six independent jewelry stores on trends, running a small business and shopping behaviors to…', \"A look at some of cinema's more unexpected — but important — jewelry moments.\", 'Hong Kong-based Melinda Zeman materialized her blended heritage and the playfulness of childhood in this…', 'Childhood friends Iris de la Villardière and Thomas Montier Leboucher reconnected over Instagram and launched…', 'Mysterious and eclectic jewelry label Mociun has quickly become the engagement ring designer of choice for…', 'The jewelry rental market unpacked: It holds potential, but the drawbacks are many.', 'The business is on a stealthy trajectory, in 2021 it reported a 74 percent increase in sales.', 'The collection rings heavy on the romance \"Bridgerton\" brings.', 'A retrospective chronicling the history and the creations of the fine jewelry brand opens Tuesday at the…', 'Two diamond pieces honor British Royals.', 'The accessories brand founded by Susan Korn is putting Jewish tradition on full display.', 'Tiffany & Co. has sponsored an educational initiative at North Carolina A&T University as part of wider goals…', 'The collaboration is the next chapter of a collection that launched in April.', 'Her Conversations with the Moon collection will include 12 new styles to debut at Bergdorf.']\n"
     ]
    }
   ],
   "source": [
    "print(content)"
   ]
  },
  {
   "cell_type": "code",
   "execution_count": 14,
   "id": "044d6b1d-bdd3-4cae-9689-f88c2267c81b",
   "metadata": {},
   "outputs": [
    {
     "data": {
      "text/html": [
       "<div>\n",
       "<style scoped>\n",
       "    .dataframe tbody tr th:only-of-type {\n",
       "        vertical-align: middle;\n",
       "    }\n",
       "\n",
       "    .dataframe tbody tr th {\n",
       "        vertical-align: top;\n",
       "    }\n",
       "\n",
       "    .dataframe thead th {\n",
       "        text-align: right;\n",
       "    }\n",
       "</style>\n",
       "<table border=\"1\" class=\"dataframe\">\n",
       "  <thead>\n",
       "    <tr style=\"text-align: right;\">\n",
       "      <th></th>\n",
       "      <th>title</th>\n",
       "      <th>urls</th>\n",
       "      <th>published_datetime</th>\n",
       "      <th>content</th>\n",
       "    </tr>\n",
       "  </thead>\n",
       "  <tbody>\n",
       "    <tr>\n",
       "      <th>0</th>\n",
       "      <td>The Future Rocks, a Marketplace Betting on Lab...</td>\n",
       "      <td>https://wwd.com/accessories-news/</td>\n",
       "      <td>2019-09-03</td>\n",
       "      <td>For $10, cofounders Anthony Tsang and Ray Chen...</td>\n",
       "    </tr>\n",
       "    <tr>\n",
       "      <th>1</th>\n",
       "      <td>Taking the Temperature of a Growing Jewelry Ma...</td>\n",
       "      <td>https://wwd.com/accessories-news/</td>\n",
       "      <td>2019-09-03</td>\n",
       "      <td>WWD speaks with six independent jewelry stores...</td>\n",
       "    </tr>\n",
       "    <tr>\n",
       "      <th>2</th>\n",
       "      <td>Hidden Gems: Key Jewelry Moments in Film</td>\n",
       "      <td>https://wwd.com/accessories-news/</td>\n",
       "      <td>2019-09-03</td>\n",
       "      <td>A look at some of cinema's more unexpected — b...</td>\n",
       "    </tr>\n",
       "    <tr>\n",
       "      <th>3</th>\n",
       "      <td>Meet the Fine Jewelry Brand Named After a 12th...</td>\n",
       "      <td>https://wwd.com/accessories-news/</td>\n",
       "      <td>2019-09-03</td>\n",
       "      <td>Hong Kong-based Melinda Zeman materialized her...</td>\n",
       "    </tr>\n",
       "    <tr>\n",
       "      <th>4</th>\n",
       "      <td>Paris-based Jeweler Viltier Sets Off on Americ...</td>\n",
       "      <td>https://wwd.com/accessories-news/</td>\n",
       "      <td>2019-09-03</td>\n",
       "      <td>Childhood friends Iris de la Villardière and T...</td>\n",
       "    </tr>\n",
       "    <tr>\n",
       "      <th>5</th>\n",
       "      <td>What Is Mociun?</td>\n",
       "      <td>https://wwd.com/accessories-news/</td>\n",
       "      <td>2019-09-03</td>\n",
       "      <td>Mysterious and eclectic jewelry label Mociun h...</td>\n",
       "    </tr>\n",
       "    <tr>\n",
       "      <th>6</th>\n",
       "      <td>Why Own a Diamond Ring When You Can Rent One?</td>\n",
       "      <td>https://wwd.com/accessories-news/</td>\n",
       "      <td>2019-09-03</td>\n",
       "      <td>The jewelry rental market unpacked: It holds p...</td>\n",
       "    </tr>\n",
       "    <tr>\n",
       "      <th>7</th>\n",
       "      <td>Golden Eye: Missoma’s Marisa Hordern Looks to ...</td>\n",
       "      <td>https://wwd.com/accessories-news/</td>\n",
       "      <td>2019-09-03</td>\n",
       "      <td>The business is on a stealthy trajectory, in 2...</td>\n",
       "    </tr>\n",
       "    <tr>\n",
       "      <th>8</th>\n",
       "      <td>‘Bridgerton’ and Monica Rich Kosann Bring the ...</td>\n",
       "      <td>https://wwd.com/accessories-news/</td>\n",
       "      <td>2019-09-03</td>\n",
       "      <td>The collection rings heavy on the romance \"Bri...</td>\n",
       "    </tr>\n",
       "    <tr>\n",
       "      <th>9</th>\n",
       "      <td>TenThousandThings Celebrates 30 Years of Design</td>\n",
       "      <td>https://wwd.com/accessories-news/</td>\n",
       "      <td>2019-09-03</td>\n",
       "      <td>A retrospective chronicling the history and th...</td>\n",
       "    </tr>\n",
       "    <tr>\n",
       "      <th>10</th>\n",
       "      <td>Leviev Unveils Empresses Diamonds</td>\n",
       "      <td>https://wwd.com/accessories-news/</td>\n",
       "      <td>2019-09-03</td>\n",
       "      <td>Two diamond pieces honor British Royals.</td>\n",
       "    </tr>\n",
       "    <tr>\n",
       "      <th>11</th>\n",
       "      <td>Susan Alexandra Lights Up the Holidays With Ju...</td>\n",
       "      <td>https://wwd.com/accessories-news/</td>\n",
       "      <td>2019-09-03</td>\n",
       "      <td>The accessories brand founded by Susan Korn is...</td>\n",
       "    </tr>\n",
       "    <tr>\n",
       "      <th>12</th>\n",
       "      <td>Tiffany &amp; Co. Deepens HBCU Support in Partners...</td>\n",
       "      <td>https://wwd.com/accessories-news/</td>\n",
       "      <td>2019-09-03</td>\n",
       "      <td>Tiffany &amp; Co. has sponsored an educational ini...</td>\n",
       "    </tr>\n",
       "    <tr>\n",
       "      <th>13</th>\n",
       "      <td>Muse Partners With Every Mother Counts</td>\n",
       "      <td>https://wwd.com/accessories-news/</td>\n",
       "      <td>2019-09-03</td>\n",
       "      <td>The collaboration is the next chapter of a col...</td>\n",
       "    </tr>\n",
       "    <tr>\n",
       "      <th>14</th>\n",
       "      <td>Karma El Khalil Lands at Bergdorf Goodman</td>\n",
       "      <td>https://wwd.com/accessories-news/</td>\n",
       "      <td>2019-09-03</td>\n",
       "      <td>Her Conversations with the Moon collection wil...</td>\n",
       "    </tr>\n",
       "  </tbody>\n",
       "</table>\n",
       "</div>"
      ],
      "text/plain": [
       "                                                title  \\\n",
       "0   The Future Rocks, a Marketplace Betting on Lab...   \n",
       "1   Taking the Temperature of a Growing Jewelry Ma...   \n",
       "2            Hidden Gems: Key Jewelry Moments in Film   \n",
       "3   Meet the Fine Jewelry Brand Named After a 12th...   \n",
       "4   Paris-based Jeweler Viltier Sets Off on Americ...   \n",
       "5                                     What Is Mociun?   \n",
       "6       Why Own a Diamond Ring When You Can Rent One?   \n",
       "7   Golden Eye: Missoma’s Marisa Hordern Looks to ...   \n",
       "8   ‘Bridgerton’ and Monica Rich Kosann Bring the ...   \n",
       "9     TenThousandThings Celebrates 30 Years of Design   \n",
       "10                  Leviev Unveils Empresses Diamonds   \n",
       "11  Susan Alexandra Lights Up the Holidays With Ju...   \n",
       "12  Tiffany & Co. Deepens HBCU Support in Partners...   \n",
       "13             Muse Partners With Every Mother Counts   \n",
       "14          Karma El Khalil Lands at Bergdorf Goodman   \n",
       "\n",
       "                                 urls published_datetime  \\\n",
       "0   https://wwd.com/accessories-news/         2019-09-03   \n",
       "1   https://wwd.com/accessories-news/         2019-09-03   \n",
       "2   https://wwd.com/accessories-news/         2019-09-03   \n",
       "3   https://wwd.com/accessories-news/         2019-09-03   \n",
       "4   https://wwd.com/accessories-news/         2019-09-03   \n",
       "5   https://wwd.com/accessories-news/         2019-09-03   \n",
       "6   https://wwd.com/accessories-news/         2019-09-03   \n",
       "7   https://wwd.com/accessories-news/         2019-09-03   \n",
       "8   https://wwd.com/accessories-news/         2019-09-03   \n",
       "9   https://wwd.com/accessories-news/         2019-09-03   \n",
       "10  https://wwd.com/accessories-news/         2019-09-03   \n",
       "11  https://wwd.com/accessories-news/         2019-09-03   \n",
       "12  https://wwd.com/accessories-news/         2019-09-03   \n",
       "13  https://wwd.com/accessories-news/         2019-09-03   \n",
       "14  https://wwd.com/accessories-news/         2019-09-03   \n",
       "\n",
       "                                              content  \n",
       "0   For $10, cofounders Anthony Tsang and Ray Chen...  \n",
       "1   WWD speaks with six independent jewelry stores...  \n",
       "2   A look at some of cinema's more unexpected — b...  \n",
       "3   Hong Kong-based Melinda Zeman materialized her...  \n",
       "4   Childhood friends Iris de la Villardière and T...  \n",
       "5   Mysterious and eclectic jewelry label Mociun h...  \n",
       "6   The jewelry rental market unpacked: It holds p...  \n",
       "7   The business is on a stealthy trajectory, in 2...  \n",
       "8   The collection rings heavy on the romance \"Bri...  \n",
       "9   A retrospective chronicling the history and th...  \n",
       "10           Two diamond pieces honor British Royals.  \n",
       "11  The accessories brand founded by Susan Korn is...  \n",
       "12  Tiffany & Co. has sponsored an educational ini...  \n",
       "13  The collaboration is the next chapter of a col...  \n",
       "14  Her Conversations with the Moon collection wil...  "
      ]
     },
     "execution_count": 14,
     "metadata": {},
     "output_type": "execute_result"
    }
   ],
   "source": [
    "table = pd.DataFrame([title, urls, published_datetime, content]).transpose()\n",
    "table.columns = ['title', 'urls' ,'published_datetime', 'content']\n",
    "table"
   ]
  },
  {
   "cell_type": "code",
   "execution_count": 15,
   "id": "6775ac9f-c121-4741-8d4c-2b911bc73419",
   "metadata": {},
   "outputs": [],
   "source": [
    "wwd = []"
   ]
  },
  {
   "cell_type": "code",
   "execution_count": 16,
   "id": "fe3f697d-3ecf-4a5c-a2a8-15ed00b7227d",
   "metadata": {},
   "outputs": [
    {
     "name": "stdout",
     "output_type": "stream",
     "text": [
      "page:15\n"
     ]
    }
   ],
   "source": [
    "table = table.to_dict('records')\n",
    "print (f\"page:{len(table)}\")"
   ]
  },
  {
   "cell_type": "code",
   "execution_count": 17,
   "id": "9d821183-bd8f-4e55-a4ab-00a5799419ff",
   "metadata": {},
   "outputs": [],
   "source": [
    "with open('wwd.json','w', encoding='utf8') as json_file:\n",
    "    json.dump(table, json_file)"
   ]
  },
  {
   "cell_type": "markdown",
   "id": "9bda8f4e-84b1-4b61-bcc7-b09c6f229b46",
   "metadata": {
    "tags": []
   },
   "source": [
    "## Upload data to DataPlatform"
   ]
  },
  {
   "cell_type": "code",
   "execution_count": 18,
   "id": "78743c9a-58bc-4637-802f-4c809a133430",
   "metadata": {},
   "outputs": [],
   "source": [
    "from dsmlibrary.datanode import DataNode"
   ]
  },
  {
   "cell_type": "code",
   "execution_count": 19,
   "id": "87bc0455-ee3d-4d92-8065-c581f7749063",
   "metadata": {},
   "outputs": [],
   "source": [
    "dir_raw_id = 125"
   ]
  },
  {
   "cell_type": "code",
   "execution_count": 20,
   "id": "da831174-9c0c-4252-8b2f-ad0eff5e483e",
   "metadata": {},
   "outputs": [
    {
     "name": "stdout",
     "output_type": "stream",
     "text": [
      "Init DataNode sucessful!\n"
     ]
    }
   ],
   "source": [
    "datanode = DataNode()"
   ]
  },
  {
   "cell_type": "code",
   "execution_count": 21,
   "id": "8e70572a-332c-45b1-ab97-a3b621eaf995",
   "metadata": {},
   "outputs": [
    {
     "name": "stdin",
     "output_type": "stream",
     "text": [
      "File wwd.json alrady exists, do you want to replace y/n :  n\n"
     ]
    },
    {
     "data": {
      "application/vnd.jupyter.widget-view+json": {
       "model_id": "aeb63d4dc24f45ff900777680e5c9573",
       "version_major": 2,
       "version_minor": 0
      },
      "text/plain": [
       "  0%|          | 0.00/3.81k [00:00<?, ?B/s]"
      ]
     },
     "metadata": {},
     "output_type": "display_data"
    },
    {
     "data": {
      "text/plain": [
       "{'id': 1011,\n",
       " 'msg': 'file wwd (1).json create sucessful',\n",
       " 'path': 'konthorn/DSI310-10/rawData/wwd (1).json',\n",
       " 'uploaded': True}"
      ]
     },
     "execution_count": 21,
     "metadata": {},
     "output_type": "execute_result"
    }
   ],
   "source": [
    "datanode.upload_file(directory_id=dir_raw_id, file_path='wwd.json')"
   ]
  },
  {
   "cell_type": "code",
   "execution_count": null,
   "id": "8aea64f8-9f15-477d-8658-2c8a8c351599",
   "metadata": {},
   "outputs": [],
   "source": []
  }
 ],
 "metadata": {
  "kernelspec": {
   "display_name": "Python 3 (ipykernel)",
   "language": "python",
   "name": "python3"
  },
  "language_info": {
   "codemirror_mode": {
    "name": "ipython",
    "version": 3
   },
   "file_extension": ".py",
   "mimetype": "text/x-python",
   "name": "python",
   "nbconvert_exporter": "python",
   "pygments_lexer": "ipython3",
   "version": "3.10.5"
  },
  "vscode": {
   "interpreter": {
    "hash": "af9ee23a009162ae5dc82d7f0bac64244f565f165f10baeb9ef2203b3996b6be"
   }
  }
 },
 "nbformat": 4,
 "nbformat_minor": 5
}
