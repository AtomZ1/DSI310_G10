{
  "nbformat": 4,
  "nbformat_minor": 0,
  "metadata": {
    "colab": {
      "provenance": []
    },
    "kernelspec": {
      "name": "python3",
      "display_name": "Python 3"
    },
    "language_info": {
      "name": "python"
    }
  },
  "cells": [
    {
      "cell_type": "code",
      "execution_count": null,
      "metadata": {
        "id": "Wm7Lg2HVCCLA"
      },
      "outputs": [],
      "source": [
        "from bs4 import BeautifulSoup as soup\n",
        "import requests\n",
        "from datetime import datetime\n",
        "import pandas as pd\n",
        "import json"
      ]
    },
    {
      "cell_type": "code",
      "source": [
        "title = []\n",
        "urls = []\n",
        "summary = []\n",
        "published_datetime = []\n",
        "retrieved_datetime  = []\n",
        "writter = []\n",
        "content = []"
      ],
      "metadata": {
        "id": "cfT-AXqRCbps"
      },
      "execution_count": null,
      "outputs": []
    },
    {
      "cell_type": "code",
      "source": [
        "r = requests.get('https://wwd.com/accessories-news/jewelry/')\n",
        "b = soup(r.content,'lxml')"
      ],
      "metadata": {
        "id": "QZvUKnPHtsxt"
      },
      "execution_count": null,
      "outputs": []
    },
    {
      "cell_type": "code",
      "source": [
        "for news in b.find_all('div', attrs={'class' : 'story-grid-primary // a-story-grid__primary lrv-u-flex lrv-u-flex-direction-column lrv-u-height-100p'}):\n",
        "    titles = news.find('h3').get_text().strip()\n",
        "    titles = titles.replace('\\xa0',' ')\n",
        "    title.append(titles)\n",
        "    urls.append(news.find('a', href=True)['href'])\n",
        "    #เพิ่มเอลิเมนที่ต้องการเข้าไปใน list \n",
        "    date_p = news.find('time').attrs['datetime']\n",
        "    published_datetime.append(date_p)\n",
        "    contents = news.find('p').get_text().strip()\n",
        "    content.append(contents)\n",
        "    #writter = news.find('span').get_text().strip()\n",
        "  "
      ],
      "metadata": {
        "id": "47BK8-aUCbsT"
      },
      "execution_count": null,
      "outputs": []
    },
    {
      "cell_type": "code",
      "source": [
        "print(title)\n",
        "print(urls)\n",
        "print(published_datetime)\n",
        "print(content)"
      ],
      "metadata": {
        "colab": {
          "base_uri": "https://localhost:8080/"
        },
        "id": "4FKUDMBsRbjy",
        "outputId": "85d85b18-068f-4a82-d579-d14c1820bf45"
      },
      "execution_count": null,
      "outputs": [
        {
          "output_type": "stream",
          "name": "stdout",
          "text": [
            "['‘Bridgerton’ and Monica Rich Kosann Bring the Show’s Fine Jewelry Aesthetic to Consumers', 'TenThousandThings Celebrates 30 Years of Design', 'Leviev Unveils Empresses Diamonds', 'Susan Alexandra Lights Up the Holidays With Judaica Launch', 'Tiffany & Co. Deepens HBCU Support in Partnership With Harlem’s Fashion Row', 'Muse Partners With Every Mother Counts', 'Karma El Khalil Lands at Bergdorf Goodman', 'EXCLUSIVE: Maison Mazerea Debuts Yellow Diamond Jewelry Collection', 'Tiffany & Co. Brings New Approach to Holiday Season With 360-Degree Campaign Inspired by Andy Warhol', 'Lupita Nyong’o Joins De Beers as Its First Global Ambassador', 'The Roaring Bling: Heavenly London Celebrates the Women of the 1920s With Art Deco Collection', 'Cartier Reopens Historic Rue de la Paix Flagship', 'Maria Tash Releases New Collection Inspired by Goth Punk Hairstyle', 'Alison Lou Opens Boutique in the Mark Hotel', 'Ginette NY Marks 20-year Anniversary With New Collection']\n",
            "['https://wwd.com/accessories-news/', 'https://wwd.com/accessories-news/', 'https://wwd.com/accessories-news/', 'https://wwd.com/accessories-news/', 'https://wwd.com/accessories-news/', 'https://wwd.com/accessories-news/', 'https://wwd.com/accessories-news/', 'https://wwd.com/accessories-news/', 'https://wwd.com/accessories-news/', 'https://wwd.com/accessories-news/', 'https://wwd.com/accessories-news/', 'https://wwd.com/accessories-news/', 'https://wwd.com/accessories-news/', 'https://wwd.com/accessories-news/', 'https://wwd.com/accessories-news/']\n",
            "['2019-09-03', '2019-09-03', '2019-09-03', '2019-09-03', '2019-09-03', '2019-09-03', '2019-09-03', '2019-09-03', '2019-09-03', '2019-09-03', '2019-09-03', '2019-09-03', '2019-09-03', '2019-09-03', '2019-09-03']\n",
            "['The collection rings heavy on the romance \"Bridgerton\" brings.', 'A retrospective chronicling the history and the creations of the fine jewelry brand opens Tuesday at the…', 'Two diamond pieces honor British Royals.', 'The accessories brand founded by Susan Korn is putting Jewish tradition on full display.', 'Tiffany & Co. has sponsored an educational initiative at North Carolina A&T University as part of wider goals…', 'The collaboration is the next chapter of a collection that launched in April.', 'Her Conversations with the Moon collection will include 12 new styles to debut at Bergdorf.', '\"My bias is toward the beauty of the diamond, the jewelry is the supporting act,\" said founder Peter J…', 'Tiffany is establishing visual continuity across store displays, advertising and product for the…', 'The Academy Award winner appears in the brand\\'s \"Where It Begins,\" campaign photographed by Lachlan Bailey.', 'The British jewelry brand has partnered with French entrepreneur Flavia Stuttgen on a third collection.', \"The French jeweler's Parisian flagship reopens after a two-year renovation that sees the addition of an…\", \"Tash's collection was designed in ode to her college hairstyle, and is part of the jeweler's continued…\", \"Alison Chemla's cheeky jewelry line has opened a new store on Madison Avenue, coinciding with the brand's…\", 'Founder Frédérique Dessemond is marking the anniversary by reviving some of her most iconic designs.']\n"
          ]
        }
      ]
    },
    {
      "cell_type": "code",
      "source": [
        "#col = ['title','urls','About','Tag','Detail']\n",
        "table = pd.DataFrame([title,urls,published_datetime,content]).transpose()\n",
        "table.columns = ['title','urls','published_datetime','content']\n",
        "table\n",
        "\n",
        "#table.to_excel('wwd.xlsx', engine='openpyxl')"
      ],
      "metadata": {
        "colab": {
          "base_uri": "https://localhost:8080/",
          "height": 520
        },
        "id": "JqOEuyll7NGW",
        "outputId": "c1c35166-1c6f-4c1d-cccf-2f154deb68ef"
      },
      "execution_count": null,
      "outputs": [
        {
          "output_type": "execute_result",
          "data": {
            "text/plain": [
              "                                                title  \\\n",
              "0   ‘Bridgerton’ and Monica Rich Kosann Bring the ...   \n",
              "1     TenThousandThings Celebrates 30 Years of Design   \n",
              "2                   Leviev Unveils Empresses Diamonds   \n",
              "3   Susan Alexandra Lights Up the Holidays With Ju...   \n",
              "4   Tiffany & Co. Deepens HBCU Support in Partners...   \n",
              "5              Muse Partners With Every Mother Counts   \n",
              "6           Karma El Khalil Lands at Bergdorf Goodman   \n",
              "7   EXCLUSIVE: Maison Mazerea Debuts Yellow Diamon...   \n",
              "8   Tiffany & Co. Brings New Approach to Holiday S...   \n",
              "9   Lupita Nyong’o Joins De Beers as Its First Glo...   \n",
              "10  The Roaring Bling: Heavenly London Celebrates ...   \n",
              "11   Cartier Reopens Historic Rue de la Paix Flagship   \n",
              "12  Maria Tash Releases New Collection Inspired by...   \n",
              "13        Alison Lou Opens Boutique in the Mark Hotel   \n",
              "14  Ginette NY Marks 20-year Anniversary With New ...   \n",
              "\n",
              "                                 urls published_datetime  \\\n",
              "0   https://wwd.com/accessories-news/         2019-09-03   \n",
              "1   https://wwd.com/accessories-news/         2019-09-03   \n",
              "2   https://wwd.com/accessories-news/         2019-09-03   \n",
              "3   https://wwd.com/accessories-news/         2019-09-03   \n",
              "4   https://wwd.com/accessories-news/         2019-09-03   \n",
              "5   https://wwd.com/accessories-news/         2019-09-03   \n",
              "6   https://wwd.com/accessories-news/         2019-09-03   \n",
              "7   https://wwd.com/accessories-news/         2019-09-03   \n",
              "8   https://wwd.com/accessories-news/         2019-09-03   \n",
              "9   https://wwd.com/accessories-news/         2019-09-03   \n",
              "10  https://wwd.com/accessories-news/         2019-09-03   \n",
              "11  https://wwd.com/accessories-news/         2019-09-03   \n",
              "12  https://wwd.com/accessories-news/         2019-09-03   \n",
              "13  https://wwd.com/accessories-news/         2019-09-03   \n",
              "14  https://wwd.com/accessories-news/         2019-09-03   \n",
              "\n",
              "                                              content  \n",
              "0   The collection rings heavy on the romance \"Bri...  \n",
              "1   A retrospective chronicling the history and th...  \n",
              "2            Two diamond pieces honor British Royals.  \n",
              "3   The accessories brand founded by Susan Korn is...  \n",
              "4   Tiffany & Co. has sponsored an educational ini...  \n",
              "5   The collaboration is the next chapter of a col...  \n",
              "6   Her Conversations with the Moon collection wil...  \n",
              "7   \"My bias is toward the beauty of the diamond, ...  \n",
              "8   Tiffany is establishing visual continuity acro...  \n",
              "9   The Academy Award winner appears in the brand'...  \n",
              "10  The British jewelry brand has partnered with F...  \n",
              "11  The French jeweler's Parisian flagship reopens...  \n",
              "12  Tash's collection was designed in ode to her c...  \n",
              "13  Alison Chemla's cheeky jewelry line has opened...  \n",
              "14  Founder Frédérique Dessemond is marking the an...  "
            ],
            "text/html": [
              "\n",
              "  <div id=\"df-82b7aea7-dcbd-41c3-9083-c4f75aeece78\">\n",
              "    <div class=\"colab-df-container\">\n",
              "      <div>\n",
              "<style scoped>\n",
              "    .dataframe tbody tr th:only-of-type {\n",
              "        vertical-align: middle;\n",
              "    }\n",
              "\n",
              "    .dataframe tbody tr th {\n",
              "        vertical-align: top;\n",
              "    }\n",
              "\n",
              "    .dataframe thead th {\n",
              "        text-align: right;\n",
              "    }\n",
              "</style>\n",
              "<table border=\"1\" class=\"dataframe\">\n",
              "  <thead>\n",
              "    <tr style=\"text-align: right;\">\n",
              "      <th></th>\n",
              "      <th>title</th>\n",
              "      <th>urls</th>\n",
              "      <th>published_datetime</th>\n",
              "      <th>content</th>\n",
              "    </tr>\n",
              "  </thead>\n",
              "  <tbody>\n",
              "    <tr>\n",
              "      <th>0</th>\n",
              "      <td>‘Bridgerton’ and Monica Rich Kosann Bring the ...</td>\n",
              "      <td>https://wwd.com/accessories-news/</td>\n",
              "      <td>2019-09-03</td>\n",
              "      <td>The collection rings heavy on the romance \"Bri...</td>\n",
              "    </tr>\n",
              "    <tr>\n",
              "      <th>1</th>\n",
              "      <td>TenThousandThings Celebrates 30 Years of Design</td>\n",
              "      <td>https://wwd.com/accessories-news/</td>\n",
              "      <td>2019-09-03</td>\n",
              "      <td>A retrospective chronicling the history and th...</td>\n",
              "    </tr>\n",
              "    <tr>\n",
              "      <th>2</th>\n",
              "      <td>Leviev Unveils Empresses Diamonds</td>\n",
              "      <td>https://wwd.com/accessories-news/</td>\n",
              "      <td>2019-09-03</td>\n",
              "      <td>Two diamond pieces honor British Royals.</td>\n",
              "    </tr>\n",
              "    <tr>\n",
              "      <th>3</th>\n",
              "      <td>Susan Alexandra Lights Up the Holidays With Ju...</td>\n",
              "      <td>https://wwd.com/accessories-news/</td>\n",
              "      <td>2019-09-03</td>\n",
              "      <td>The accessories brand founded by Susan Korn is...</td>\n",
              "    </tr>\n",
              "    <tr>\n",
              "      <th>4</th>\n",
              "      <td>Tiffany &amp; Co. Deepens HBCU Support in Partners...</td>\n",
              "      <td>https://wwd.com/accessories-news/</td>\n",
              "      <td>2019-09-03</td>\n",
              "      <td>Tiffany &amp; Co. has sponsored an educational ini...</td>\n",
              "    </tr>\n",
              "    <tr>\n",
              "      <th>5</th>\n",
              "      <td>Muse Partners With Every Mother Counts</td>\n",
              "      <td>https://wwd.com/accessories-news/</td>\n",
              "      <td>2019-09-03</td>\n",
              "      <td>The collaboration is the next chapter of a col...</td>\n",
              "    </tr>\n",
              "    <tr>\n",
              "      <th>6</th>\n",
              "      <td>Karma El Khalil Lands at Bergdorf Goodman</td>\n",
              "      <td>https://wwd.com/accessories-news/</td>\n",
              "      <td>2019-09-03</td>\n",
              "      <td>Her Conversations with the Moon collection wil...</td>\n",
              "    </tr>\n",
              "    <tr>\n",
              "      <th>7</th>\n",
              "      <td>EXCLUSIVE: Maison Mazerea Debuts Yellow Diamon...</td>\n",
              "      <td>https://wwd.com/accessories-news/</td>\n",
              "      <td>2019-09-03</td>\n",
              "      <td>\"My bias is toward the beauty of the diamond, ...</td>\n",
              "    </tr>\n",
              "    <tr>\n",
              "      <th>8</th>\n",
              "      <td>Tiffany &amp; Co. Brings New Approach to Holiday S...</td>\n",
              "      <td>https://wwd.com/accessories-news/</td>\n",
              "      <td>2019-09-03</td>\n",
              "      <td>Tiffany is establishing visual continuity acro...</td>\n",
              "    </tr>\n",
              "    <tr>\n",
              "      <th>9</th>\n",
              "      <td>Lupita Nyong’o Joins De Beers as Its First Glo...</td>\n",
              "      <td>https://wwd.com/accessories-news/</td>\n",
              "      <td>2019-09-03</td>\n",
              "      <td>The Academy Award winner appears in the brand'...</td>\n",
              "    </tr>\n",
              "    <tr>\n",
              "      <th>10</th>\n",
              "      <td>The Roaring Bling: Heavenly London Celebrates ...</td>\n",
              "      <td>https://wwd.com/accessories-news/</td>\n",
              "      <td>2019-09-03</td>\n",
              "      <td>The British jewelry brand has partnered with F...</td>\n",
              "    </tr>\n",
              "    <tr>\n",
              "      <th>11</th>\n",
              "      <td>Cartier Reopens Historic Rue de la Paix Flagship</td>\n",
              "      <td>https://wwd.com/accessories-news/</td>\n",
              "      <td>2019-09-03</td>\n",
              "      <td>The French jeweler's Parisian flagship reopens...</td>\n",
              "    </tr>\n",
              "    <tr>\n",
              "      <th>12</th>\n",
              "      <td>Maria Tash Releases New Collection Inspired by...</td>\n",
              "      <td>https://wwd.com/accessories-news/</td>\n",
              "      <td>2019-09-03</td>\n",
              "      <td>Tash's collection was designed in ode to her c...</td>\n",
              "    </tr>\n",
              "    <tr>\n",
              "      <th>13</th>\n",
              "      <td>Alison Lou Opens Boutique in the Mark Hotel</td>\n",
              "      <td>https://wwd.com/accessories-news/</td>\n",
              "      <td>2019-09-03</td>\n",
              "      <td>Alison Chemla's cheeky jewelry line has opened...</td>\n",
              "    </tr>\n",
              "    <tr>\n",
              "      <th>14</th>\n",
              "      <td>Ginette NY Marks 20-year Anniversary With New ...</td>\n",
              "      <td>https://wwd.com/accessories-news/</td>\n",
              "      <td>2019-09-03</td>\n",
              "      <td>Founder Frédérique Dessemond is marking the an...</td>\n",
              "    </tr>\n",
              "  </tbody>\n",
              "</table>\n",
              "</div>\n",
              "      <button class=\"colab-df-convert\" onclick=\"convertToInteractive('df-82b7aea7-dcbd-41c3-9083-c4f75aeece78')\"\n",
              "              title=\"Convert this dataframe to an interactive table.\"\n",
              "              style=\"display:none;\">\n",
              "        \n",
              "  <svg xmlns=\"http://www.w3.org/2000/svg\" height=\"24px\"viewBox=\"0 0 24 24\"\n",
              "       width=\"24px\">\n",
              "    <path d=\"M0 0h24v24H0V0z\" fill=\"none\"/>\n",
              "    <path d=\"M18.56 5.44l.94 2.06.94-2.06 2.06-.94-2.06-.94-.94-2.06-.94 2.06-2.06.94zm-11 1L8.5 8.5l.94-2.06 2.06-.94-2.06-.94L8.5 2.5l-.94 2.06-2.06.94zm10 10l.94 2.06.94-2.06 2.06-.94-2.06-.94-.94-2.06-.94 2.06-2.06.94z\"/><path d=\"M17.41 7.96l-1.37-1.37c-.4-.4-.92-.59-1.43-.59-.52 0-1.04.2-1.43.59L10.3 9.45l-7.72 7.72c-.78.78-.78 2.05 0 2.83L4 21.41c.39.39.9.59 1.41.59.51 0 1.02-.2 1.41-.59l7.78-7.78 2.81-2.81c.8-.78.8-2.07 0-2.86zM5.41 20L4 18.59l7.72-7.72 1.47 1.35L5.41 20z\"/>\n",
              "  </svg>\n",
              "      </button>\n",
              "      \n",
              "  <style>\n",
              "    .colab-df-container {\n",
              "      display:flex;\n",
              "      flex-wrap:wrap;\n",
              "      gap: 12px;\n",
              "    }\n",
              "\n",
              "    .colab-df-convert {\n",
              "      background-color: #E8F0FE;\n",
              "      border: none;\n",
              "      border-radius: 50%;\n",
              "      cursor: pointer;\n",
              "      display: none;\n",
              "      fill: #1967D2;\n",
              "      height: 32px;\n",
              "      padding: 0 0 0 0;\n",
              "      width: 32px;\n",
              "    }\n",
              "\n",
              "    .colab-df-convert:hover {\n",
              "      background-color: #E2EBFA;\n",
              "      box-shadow: 0px 1px 2px rgba(60, 64, 67, 0.3), 0px 1px 3px 1px rgba(60, 64, 67, 0.15);\n",
              "      fill: #174EA6;\n",
              "    }\n",
              "\n",
              "    [theme=dark] .colab-df-convert {\n",
              "      background-color: #3B4455;\n",
              "      fill: #D2E3FC;\n",
              "    }\n",
              "\n",
              "    [theme=dark] .colab-df-convert:hover {\n",
              "      background-color: #434B5C;\n",
              "      box-shadow: 0px 1px 3px 1px rgba(0, 0, 0, 0.15);\n",
              "      filter: drop-shadow(0px 1px 2px rgba(0, 0, 0, 0.3));\n",
              "      fill: #FFFFFF;\n",
              "    }\n",
              "  </style>\n",
              "\n",
              "      <script>\n",
              "        const buttonEl =\n",
              "          document.querySelector('#df-82b7aea7-dcbd-41c3-9083-c4f75aeece78 button.colab-df-convert');\n",
              "        buttonEl.style.display =\n",
              "          google.colab.kernel.accessAllowed ? 'block' : 'none';\n",
              "\n",
              "        async function convertToInteractive(key) {\n",
              "          const element = document.querySelector('#df-82b7aea7-dcbd-41c3-9083-c4f75aeece78');\n",
              "          const dataTable =\n",
              "            await google.colab.kernel.invokeFunction('convertToInteractive',\n",
              "                                                     [key], {});\n",
              "          if (!dataTable) return;\n",
              "\n",
              "          const docLinkHtml = 'Like what you see? Visit the ' +\n",
              "            '<a target=\"_blank\" href=https://colab.research.google.com/notebooks/data_table.ipynb>data table notebook</a>'\n",
              "            + ' to learn more about interactive tables.';\n",
              "          element.innerHTML = '';\n",
              "          dataTable['output_type'] = 'display_data';\n",
              "          await google.colab.output.renderOutput(dataTable, element);\n",
              "          const docLink = document.createElement('div');\n",
              "          docLink.innerHTML = docLinkHtml;\n",
              "          element.appendChild(docLink);\n",
              "        }\n",
              "      </script>\n",
              "    </div>\n",
              "  </div>\n",
              "  "
            ]
          },
          "metadata": {},
          "execution_count": 6
        }
      ]
    },
    {
      "cell_type": "code",
      "source": [
        "import json\n",
        "wwd = []"
      ],
      "metadata": {
        "id": "FLkBC0Yh8kQI"
      },
      "execution_count": null,
      "outputs": []
    },
    {
      "cell_type": "code",
      "source": [
        "table = table.to_dict('records')\n",
        "print (table)"
      ],
      "metadata": {
        "colab": {
          "base_uri": "https://localhost:8080/"
        },
        "id": "zscZIyIF8ueP",
        "outputId": "4a33e49b-b25e-4268-84a1-b374d386a946"
      },
      "execution_count": null,
      "outputs": [
        {
          "output_type": "stream",
          "name": "stdout",
          "text": [
            "[{'title': '‘Bridgerton’ and Monica Rich Kosann Bring the Show’s Fine Jewelry Aesthetic to Consumers', 'urls': 'https://wwd.com/accessories-news/', 'published_datetime': '2019-09-03', 'content': 'The collection rings heavy on the romance \"Bridgerton\" brings.'}, {'title': 'TenThousandThings Celebrates 30 Years of Design', 'urls': 'https://wwd.com/accessories-news/', 'published_datetime': '2019-09-03', 'content': 'A retrospective chronicling the history and the creations of the fine jewelry brand opens Tuesday at the…'}, {'title': 'Leviev Unveils Empresses Diamonds', 'urls': 'https://wwd.com/accessories-news/', 'published_datetime': '2019-09-03', 'content': 'Two diamond pieces honor British Royals.'}, {'title': 'Susan Alexandra Lights Up the Holidays With Judaica Launch', 'urls': 'https://wwd.com/accessories-news/', 'published_datetime': '2019-09-03', 'content': 'The accessories brand founded by Susan Korn is putting Jewish tradition on full display.'}, {'title': 'Tiffany & Co. Deepens HBCU Support in Partnership With Harlem’s Fashion Row', 'urls': 'https://wwd.com/accessories-news/', 'published_datetime': '2019-09-03', 'content': 'Tiffany & Co. has sponsored an educational initiative at North Carolina A&T University as part of wider goals…'}, {'title': 'Muse Partners With Every Mother Counts', 'urls': 'https://wwd.com/accessories-news/', 'published_datetime': '2019-09-03', 'content': 'The collaboration is the next chapter of a collection that launched in April.'}, {'title': 'Karma El Khalil Lands at Bergdorf Goodman', 'urls': 'https://wwd.com/accessories-news/', 'published_datetime': '2019-09-03', 'content': 'Her Conversations with the Moon collection will include 12 new styles to debut at Bergdorf.'}, {'title': 'EXCLUSIVE: Maison Mazerea Debuts Yellow Diamond Jewelry Collection', 'urls': 'https://wwd.com/accessories-news/', 'published_datetime': '2019-09-03', 'content': '\"My bias is toward the beauty of the diamond, the jewelry is the supporting act,\" said founder Peter J…'}, {'title': 'Tiffany & Co. Brings New Approach to Holiday Season With 360-Degree Campaign Inspired by Andy Warhol', 'urls': 'https://wwd.com/accessories-news/', 'published_datetime': '2019-09-03', 'content': 'Tiffany is establishing visual continuity across store displays, advertising and product for the…'}, {'title': 'Lupita Nyong’o Joins De Beers as Its First Global Ambassador', 'urls': 'https://wwd.com/accessories-news/', 'published_datetime': '2019-09-03', 'content': 'The Academy Award winner appears in the brand\\'s \"Where It Begins,\" campaign photographed by Lachlan Bailey.'}, {'title': 'The Roaring Bling: Heavenly London Celebrates the Women of the 1920s With Art Deco Collection', 'urls': 'https://wwd.com/accessories-news/', 'published_datetime': '2019-09-03', 'content': 'The British jewelry brand has partnered with French entrepreneur Flavia Stuttgen on a third collection.'}, {'title': 'Cartier Reopens Historic Rue de la Paix Flagship', 'urls': 'https://wwd.com/accessories-news/', 'published_datetime': '2019-09-03', 'content': \"The French jeweler's Parisian flagship reopens after a two-year renovation that sees the addition of an…\"}, {'title': 'Maria Tash Releases New Collection Inspired by Goth Punk Hairstyle', 'urls': 'https://wwd.com/accessories-news/', 'published_datetime': '2019-09-03', 'content': \"Tash's collection was designed in ode to her college hairstyle, and is part of the jeweler's continued…\"}, {'title': 'Alison Lou Opens Boutique in the Mark Hotel', 'urls': 'https://wwd.com/accessories-news/', 'published_datetime': '2019-09-03', 'content': \"Alison Chemla's cheeky jewelry line has opened a new store on Madison Avenue, coinciding with the brand's…\"}, {'title': 'Ginette NY Marks 20-year Anniversary With New Collection', 'urls': 'https://wwd.com/accessories-news/', 'published_datetime': '2019-09-03', 'content': 'Founder Frédérique Dessemond is marking the anniversary by reviving some of her most iconic designs.'}]\n"
          ]
        }
      ]
    },
    {
      "cell_type": "code",
      "source": [],
      "metadata": {
        "id": "EuhI6KAds3lB"
      },
      "execution_count": null,
      "outputs": []
    }
  ]
}