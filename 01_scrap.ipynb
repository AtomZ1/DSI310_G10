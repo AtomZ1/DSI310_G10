{
 "cells": [
  {
   "cell_type": "markdown",
   "id": "fcef6729-5890-4ea9-b91c-d34df4326986",
   "metadata": {},
   "source": [
    "# 01_scrap\n",
    "- scrapping data from newsdata.io and upload to DataPlatform"
   ]
  },
  {
   "cell_type": "markdown",
   "id": "94a72a85-cebd-4448-b86c-92fb6c23f028",
   "metadata": {},
   "source": [
    "## Getting data "
   ]
  },
  {
   "cell_type": "code",
   "execution_count": 1,
   "id": "279f0e74-3724-407a-9737-2e9b5f2556f0",
   "metadata": {},
   "outputs": [],
   "source": [
    "from gc import callbacks\n",
    "import scrapy\n",
    "import re\n",
    "from scrapy.spiders import CrawlSpider, Rule\n",
    "from scrapy.linkextractors import LinkExtractor\n",
    "from scrapy.crawler import CrawlerRunner\n",
    "\n",
    "\n",
    "class fileSpider(CrawlSpider):\n",
    "    name = \"file\"\n",
    "    allowed_domains = ['www.vogue.co.uk']\n",
    "    start_urls = ['https://www.vogue.co.uk/fashion',]\n",
    "\n",
    "    custom_settings = {\n",
    "        'DEPTH_LIMIT': 1\n",
    "    }\n",
    "\n",
    "    rules = (\n",
    "        Rule(LinkExtractor(allow='fashion' , deny='article')),\n",
    "        Rule(LinkExtractor(allow='article'), callback='parse_links')\n",
    "    )\n",
    "\n",
    "    def parse_links(self, response):\n",
    "        yield{\n",
    "            'name': response.css('div.SplitScreenContentHeaderTitleBlock-hkbQxz.kmTHjj h1::text').get(),\n",
    "            'grouping' : response.css('div.RubricWrapper-cSwECA.eimlmX.rubric.SplitScreenContentHeaderRubric-lcYYrD.koRKTN span::text').get(),\n",
    "            'author': response.css('span.BylineName-cKjYhk.cmNGOq.byline__name a::text').get(),\n",
    "            'time': response.css('div.SplitScreenContentHeaderTitleBlock-hkbQxz.kmTHjj time::text').get(),\n",
    "        }"
   ]
  },
  {
   "cell_type": "markdown",
   "id": "9bda8f4e-84b1-4b61-bcc7-b09c6f229b46",
   "metadata": {
    "tags": []
   },
   "source": [
    "## Upload data to DataPlatform"
   ]
  },
  {
   "cell_type": "code",
   "execution_count": 2,
   "id": "78743c9a-58bc-4637-802f-4c809a133430",
   "metadata": {},
   "outputs": [],
   "source": [
    "from dsmlibrary.datanode import DataNode"
   ]
  },
  {
   "cell_type": "code",
   "execution_count": 3,
   "id": "87bc0455-ee3d-4d92-8065-c581f7749063",
   "metadata": {},
   "outputs": [],
   "source": [
    "dir_raw_id = 125"
   ]
  },
  {
   "cell_type": "code",
   "execution_count": 4,
   "id": "da831174-9c0c-4252-8b2f-ad0eff5e483e",
   "metadata": {},
   "outputs": [
    {
     "name": "stdout",
     "output_type": "stream",
     "text": [
      "Init DataNode sucessful!\n"
     ]
    }
   ],
   "source": [
    "datanode = DataNode()"
   ]
  },
  {
   "cell_type": "code",
   "execution_count": 5,
   "id": "8e70572a-332c-45b1-ab97-a3b621eaf995",
   "metadata": {},
   "outputs": [
    {
     "data": {
      "application/vnd.jupyter.widget-view+json": {
       "model_id": "475139c6671545d8abe6fd4b88a94676",
       "version_major": 2,
       "version_minor": 0
      },
      "text/plain": [
       "  0%|          | 0.00/2.21k [00:00<?, ?B/s]"
      ]
     },
     "metadata": {},
     "output_type": "display_data"
    },
    {
     "data": {
      "text/plain": [
       "{'id': 271,\n",
       " 'msg': 'file news.json create sucessful',\n",
       " 'path': 'konthorn/DSI310-10/rawData/news.json',\n",
       " 'uploaded': True}"
      ]
     },
     "execution_count": 5,
     "metadata": {},
     "output_type": "execute_result"
    }
   ],
   "source": [
    "datanode.upload_file(directory_id=dir_raw_id, file_path='news.json')"
   ]
  },
  {
   "cell_type": "code",
   "execution_count": null,
   "id": "8aea64f8-9f15-477d-8658-2c8a8c351599",
   "metadata": {},
   "outputs": [],
   "source": []
  }
 ],
 "metadata": {
  "kernelspec": {
   "display_name": "Python 3 (ipykernel)",
   "language": "python",
   "name": "python3"
  },
  "language_info": {
   "codemirror_mode": {
    "name": "ipython",
    "version": 3
   },
   "file_extension": ".py",
   "mimetype": "text/x-python",
   "name": "python",
   "nbconvert_exporter": "python",
   "pygments_lexer": "ipython3",
   "version": "3.10.5"
  }
 },
 "nbformat": 4,
 "nbformat_minor": 5
}
